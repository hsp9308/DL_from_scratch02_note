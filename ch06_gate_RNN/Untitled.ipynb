{
 "cells": [
  {
   "cell_type": "markdown",
   "id": "0a4c05e0",
   "metadata": {},
   "source": [
    "# Chapter 6. RNN with Gate (LSTM, GRU 계층)\n",
    "\n",
    "## 1. RNN의 문제점\n",
    "\n",
    "앞 장에서 언급한 대로, RNN은 시퀀스가 길어질 경우, gradient vanishing (or gradient exploding) 문제가 발생한다.\n",
    "\n",
    "- 원인 1 : RNN에서 계산되는 함수 $\\tanh(x)$의 형태를 보자."
   ]
  },
  {
   "cell_type": "code",
   "execution_count": 8,
   "id": "02270285",
   "metadata": {},
   "outputs": [
    {
     "data": {
      "image/png": "[encoded data removed]",
      "text/plain": [
       "<Figure size 432x288 with 1 Axes>"
      ]
     },
     "metadata": {
      "needs_background": "light"
     },
     "output_type": "display_data"
    }
   ],
   "source": [
    "# tanh function illustration\n",
    "from matplotlib import pyplot as plt\n",
    "import numpy as np\n",
    "\n",
    "x = np.arange(-5,5,0.1)\n",
    "y1 = np.tanh(x)\n",
    "y2 = 1 - y1 ** 2\n",
    "plt.plot(x,y1,label='y=tanh(x)')\n",
    "plt.plot(x,y2,ls='--',label='dy/dx')\n",
    "plt.legend()\n",
    "plt.show()"
   ]
  },
  {
   "cell_type": "markdown",
   "id": "5a32915c",
   "metadata": {},
   "source": [
    "    위와 같이, $\\tanh(x)$는 0에서는 기울기가 1이지만, 0에서 멀어질수록 기울기가 0에 가까워지는 문제가 있다.\n",
    "    -> 기울기가 역전파를 반복할수록 작아지는 문제 발생.\n",
    "    NOTE : 이 문제의 경우 ReLU 함수를 써서 대체 가능.\n",
    "- 원인 2 : RNN 계층의 시간에 따른 기울기 역전파에는 weight matrix $W_h$가 연속해서 곱해짐.<br>\n",
    "    -> 시간축으로의 역전파가 반복될 수록 $W^2_h$, $W^3_h$, ... 식으로 연속해서 곱해지면, 0으로 수렴하거나, 무한대로 발산할 수 있음. \n",
    "    <br>\n",
    "    https://arxiv.org/abs/1211.5063 참고\n",
    "    \n",
    "\n",
    "- Gradient exploding 문제 대책 : gradient clipping.\n",
    "    - Gradient의 L2 norm이 *threshold*보다 커질 경우, gradient $g$를 다음과 같이 rescaling함.<br>\n",
    "\\begin{equation}\n",
    "g_{new} = \\frac{\\textit{threshold}}{||g||}g .\n",
    "\\end{equation}"
   ]
  },
  {
   "cell_type": "code",
   "execution_count": 9,
   "id": "7c721c6d",
   "metadata": {},
   "outputs": [
    {
     "name": "stdout",
     "output_type": "stream",
     "text": [
      "[array([[3.37731592, 8.11998845, 7.96032326],\n",
      "       [0.87341069, 9.56385317, 9.25867808],\n",
      "       [6.48460757, 2.49734401, 5.56587231]]), array([[8.67305792, 8.93943951, 6.46754862],\n",
      "       [1.76190047, 6.83608366, 8.01913903],\n",
      "       [3.58488989, 7.74981107, 4.05756025]])]\n",
      "[array([[0.5976254 , 1.43685443, 1.40860123],\n",
      "       [0.15455244, 1.69235029, 1.63834871],\n",
      "       [1.14746926, 0.44191193, 0.98489651]]), array([[1.5347216 , 1.58185856, 1.14445063],\n",
      "       [0.31177316, 1.20966392, 1.41900885],\n",
      "       [0.63435619, 1.37135052, 0.71799652]])]\n"
     ]
    }
   ],
   "source": [
    "# Gradient clipping\n",
    "# common/util.py 에 구현됨.\n",
    "\n",
    "dW1 = np.random.rand(3,3) * 10\n",
    "dW2 = np.random.rand(3,3) * 10\n",
    "grads = [dW1, dW2]\n",
    "max_norm = 5.0 # threshold\n",
    "\n",
    "def clip_grads(grads, max_norm):\n",
    "    total_norm = 0\n",
    "    for grad in grads:\n",
    "        total_norm += np.sum(grad ** 2)\n",
    "    total_norm = np.sqrt(total_norm) # L2 norm\n",
    "    \n",
    "    rate = max_norm / (total_norm + 1e-6)\n",
    "    if rate < 1:\n",
    "        for grad in grads:\n",
    "            grad *= rate\n",
    "          \n",
    "print(grads)\n",
    "clip_grads(grads,max_norm)\n",
    "print(grads)"
   ]
  },
  {
   "cell_type": "markdown",
   "id": "a541d834",
   "metadata": {},
   "source": [
    "## 2. Gradient Vanishing and LSTM\n",
    "\n",
    "- Memory cell $c_t$ : 계층 내에서만 전파되는 추가 요소. 은닉상태 (hidden state)와는 다름.\n",
    "    - 과거로부터 시간 $t$ 까지의 정보가 저장되어 있음.\n",
    "    - $h_{t-1}$, $c_{t-1}$, $x_t$를 가지고 $c_t$가 결정됨.\n",
    "    - 갱신된 $c_t$를 가지고 $h_t$가 계산됨. <br>\n",
    "    $h_t = \\tanh(c_t)$. \n",
    "- Gate : 이전 계층에서 다음 계층으로 얼만큼 정보를 보낼 것이냐? -> 열림 상태.\n",
    "    - value = 0 ~ 1 : 0일 때, 완전 차단. 1일 때 완전 전달.\n",
    "    - 열림 상태도 학습으로 조절될 예정.\n",
    "- Output Gate : $\\tanh(c_t)$ 에 대해 게이트를 적용.\n",
    "    - 열림 상태는 $o=\\sigma(x_t W^{(o)}_x h_{t-1} W^{(o)}_h + b^{(o)})$, sigmoid 함수로 결정됨.\n",
    "    - $o$가 결정되면, $h_t = o \\odot \\tanh(c_t) $. ($\\odot$ : 원소별 곱.)\n",
    "- Forget Gate : $c_{t-1}$ 의 일부를 버리는 게이트.\n",
    "    - 게이트 열림 $f=\\sigma(x_t W^{(f)}_x h_{t-1} W^{(f)}_h + b^{(f)})$ 에 대해\n",
    "    - $c_t = f \\odot c_{t-1}$ 로 순전파됨.\n",
    "- 새로운 기억 요소 g 생성\n",
    "    - $g = \\tanh(x_t W^{(g)}_x h_{t-1} W^{(g)}_h + b^{(g)})$ 생성.\n",
    "    - $g$ 만 $\\tanh$ 함수임에 유의.\n",
    "- Input gate : 기억 요소 g에 대한 gate\n",
    "    - $i = \\sigma(x_t W^{(i)}_x h_{t-1} W^{(i)}_h + b^{(i)})$. \n",
    "    \n",
    "- 최종 기억안\n",
    "    - $c_t = f \\odot c_{t-1} + g \\odot i$ : 현재 시간대의 기억셀은 이전 기억 셀의 일부와 현재 시간 대의 정보 일부를 같이 저장함.\n",
    "    - $h_t = o \\odot \\tanh(c_t)$ : 갱신된 기억셀을 게이트에 통과시켜 새로운 은닉상태 생성.\n",
    "- $x_t W_x h_{t-1} W_h + b $ 의 형태가 반복되기 때문에 (affine transformation), 각 weight 및 bias를 하나로 합쳐서 계산.\n",
    "    - 큰 행렬의 연산이 작은 행렬을 여러번 연산하는 것보다 빠르기 때문.\n",
    "\n",
    "\\begin{equation}\n",
    "x_t \\times [ W^{(f)}_x W^{(g)}_x W^{(i)}_x W^{(o)}_x ] + h_{t-1} \\times [ W^{(f)}_h W^{(g)}_h W^{(i)}_h W^{(o)}_h ]\n",
    "+ [ b^{(f)} b^{(g)} b^{(i)} b^{(o)} ] . \n",
    "\\end{equation}"
   ]
  },
  {
   "cell_type": "code",
   "execution_count": null,
   "id": "a2efcf7f",
   "metadata": {},
   "outputs": [],
   "source": [
    "# # LSTM 계층\n",
    "# class LSTM:\n",
    "#     def __init__(self, Wx, Wh, b):\n",
    "#         self.params = [Wx, Wh, b]\n",
    "#         self.grads = [np.zeros_like(Wx), np.zeros_like(Wh), np.zeros_like(b)]\n",
    "#         self.cache = None\n",
    "    \n",
    "#     # forward propagation : Input (x), memory cell (c_prev) 와 hidden state (h_prev) 가 인자로 전달됨.\n",
    "#     def forward(self, x, h_prev, c_prev):\n",
    "#         '''\n",
    "#         parameters\n",
    "#         N : number of samples in the mini-batch\n",
    "#         H : number of hidden nodes\n",
    "#         '''\n",
    "#         Wx, Wh, b = self.params\n",
    "#         N, H = h_prev.shape\n",
    "        \n",
    "#         # Affine transformation (= affine layer 와 똑같은 순전파 연산 시행함.)\n",
    "#         A = np.matmul(x,Wx) + np.matmul(h_prev,Wh) + b\n",
    "        \n",
    "#         # stack의 순서는 f,g,i,o. (note의 수식과 같음.)\n",
    "#         f = A[:, :H]\n",
    "#         g = A[:, H:2*H]\n",
    "#         i = A[:, 2*H:3*H]\n",
    "#         o = A[:, 3*H:]\n",
    "        \n",
    "#         f = sigmoid(f)\n",
    "#         g = np.tanh(g)\n",
    "#         i = sigmoid(i)\n",
    "#         o = sigmoid(o)\n",
    "        \n",
    "#         # Element-wise multiplication and additions\n",
    "#         c_next = f * c_prev + g*i\n",
    "#         h_next = o * np.tanh(c_next)\n",
    "        \n",
    "#         self.cache = (x, h_prev, c_prev, i, f, g, o, c_next)\n",
    "#         return h_next, c_next\n",
    "    \n",
    "#     def backward(self, dh_next, dc_next):\n",
    "#         Wx, Wh, b = self.params\n",
    "#         x, h_prev, c_prev, i, f, g, o, c_next = self.cache\n",
    "\n",
    "#         tanh_c_next = np.tanh(c_next)\n",
    "        \n",
    "#         # ds : dc_next 와 dh_t에서 온 역전파 값을 더함.\n",
    "#         # h_t = o * tanh(c_next) 이므로, \n",
    "#         # ds = dc_next + dh_next * dh_next/dtanh(c_next) * dtanh(c_next)/dc_next\n",
    "#         # ds = dc_next + dh_next * o * (1- tanh**2). \n",
    "#         ds = dc_next + (dh_next * o) * (1 - tanh_c_next ** 2)\n",
    "\n",
    "#         dc_prev = ds * f\n",
    "\n",
    "#         di = ds * g\n",
    "#         df = ds * c_prev\n",
    "#         do = dh_next * tanh_c_next\n",
    "#         dg = ds * i\n",
    "\n",
    "#         di *= i * (1 - i)\n",
    "#         df *= f * (1 - f)\n",
    "#         do *= o * (1 - o)\n",
    "#         dg *= (1 - g ** 2)\n",
    "\n",
    "#         # 각 게이트 및 출력에 대한 slice node를 역전파에서 옆으로 쌓기.\n",
    "#         dA = np.hstack((df, dg, di, do))\n",
    "\n",
    "#         dWh = np.dot(h_prev.T, dA)\n",
    "#         dWx = np.dot(x.T, dA)\n",
    "#         db = dA.sum(axis=0)\n",
    "\n",
    "#         self.grads[0][...] = dWx\n",
    "#         self.grads[1][...] = dWh\n",
    "#         self.grads[2][...] = db\n",
    "\n",
    "#         dx = np.dot(dA, Wx.T)\n",
    "#         dh_prev = np.dot(dA, Wh.T)\n",
    "\n",
    "#         return dx, dh_prev, dc_prev"
   ]
  }
 ],
 "metadata": {
  "kernelspec": {
   "display_name": "Python 3 (ipykernel)",
   "language": "python",
   "name": "python3"
  },
  "language_info": {
   "codemirror_mode": {
    "name": "ipython",
    "version": 3
   },
   "file_extension": ".py",
   "mimetype": "text/x-python",
   "name": "python",
   "nbconvert_exporter": "python",
   "pygments_lexer": "ipython3",
   "version": "3.9.10"
  }
 },
 "nbformat": 4,
 "nbformat_minor": 5
}
