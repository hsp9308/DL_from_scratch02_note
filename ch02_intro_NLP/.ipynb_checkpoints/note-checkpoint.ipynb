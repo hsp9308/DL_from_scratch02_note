{
 "cells": [
  {
   "cell_type": "markdown",
   "id": "49ba1128",
   "metadata": {},
   "source": [
    "# Chapter 2. Introduction to NLP: NL and distribution of words"
   ]
  },
  {
   "cell_type": "code",
   "execution_count": 1,
   "id": "94bf9f3a",
   "metadata": {},
   "outputs": [],
   "source": [
    "# text corpus\n",
    "text = 'You say goodbye and I say hello.'"
   ]
  },
  {
   "cell_type": "code",
   "execution_count": 2,
   "id": "c645bfa7",
   "metadata": {},
   "outputs": [
    {
     "name": "stdout",
     "output_type": "stream",
     "text": [
      "you say goodbye and i say hello .\n",
      "YOU SAY GOODBYE AND I SAY HELLO .\n"
     ]
    }
   ],
   "source": [
    "# 소문자화 lower(), 문자열 대체 replace(target_str, change_to_this)\n",
    "text = text.lower()\n",
    "text = text.replace('.', ' .')\n",
    "print(text)\n",
    "# 대문자화 upper()\n",
    "print(text.upper())"
   ]
  },
  {
   "cell_type": "code",
   "execution_count": 3,
   "id": "1382d7c9",
   "metadata": {},
   "outputs": [
    {
     "data": {
      "text/plain": [
       "['you', 'say', 'goodbye', 'and', 'i', 'say', 'hello', '.']"
      ]
     },
     "execution_count": 3,
     "metadata": {},
     "output_type": "execute_result"
    }
   ],
   "source": [
    "# 공백 (띄어쓰기)에 따른 단어 분리 method split(' ')\n",
    "# Default : ' ', 공백에 따른 분리\n",
    "# strs.split(sep=' ')\n",
    "words = text.split(' ')\n",
    "words\n",
    "\n",
    "# regular expression도 사용 가능."
   ]
  },
  {
   "cell_type": "code",
   "execution_count": 4,
   "id": "f00d5eec",
   "metadata": {},
   "outputs": [],
   "source": [
    "word_to_id = {}\n",
    "id_to_word = {}\n",
    "\n",
    "for word in words:\n",
    "    if word not in word_to_id:\n",
    "        new_id = len(word_to_id)\n",
    "        word_to_id[word] = new_id\n",
    "        id_to_word[new_id] = word"
   ]
  },
  {
   "cell_type": "code",
   "execution_count": 5,
   "id": "d95536eb",
   "metadata": {},
   "outputs": [
    {
     "data": {
      "text/plain": [
       "{'you': 0, 'say': 1, 'goodbye': 2, 'and': 3, 'i': 4, 'hello': 5, '.': 6}"
      ]
     },
     "execution_count": 5,
     "metadata": {},
     "output_type": "execute_result"
    }
   ],
   "source": [
    "word_to_id"
   ]
  },
  {
   "cell_type": "code",
   "execution_count": 6,
   "id": "fbf0f690",
   "metadata": {},
   "outputs": [
    {
     "data": {
      "text/plain": [
       "{0: 'you', 1: 'say', 2: 'goodbye', 3: 'and', 4: 'i', 5: 'hello', 6: '.'}"
      ]
     },
     "execution_count": 6,
     "metadata": {},
     "output_type": "execute_result"
    }
   ],
   "source": [
    "id_to_word"
   ]
  },
  {
   "cell_type": "code",
   "execution_count": 7,
   "id": "9132391b",
   "metadata": {},
   "outputs": [
    {
     "data": {
      "text/plain": [
       "array([0, 1, 2, 3, 4, 1, 5, 6])"
      ]
     },
     "execution_count": 7,
     "metadata": {},
     "output_type": "execute_result"
    }
   ],
   "source": [
    "# Word ID list\n",
    "import numpy as np\n",
    "\n",
    "corpus = [word_to_id[w] for w in words]\n",
    "corpus = np.array(corpus)\n",
    "corpus"
   ]
  },
  {
   "cell_type": "code",
   "execution_count": 8,
   "id": "a1b75bf3",
   "metadata": {},
   "outputs": [],
   "source": [
    "# Words preprocessing function\n",
    "import sys\n",
    "sys.path.append('..')\n",
    "from common.util import preprocess\n",
    "\n",
    "text = 'You say goodbye and I say hello.'\n",
    "corpus, word_to_id, id_to_word = preprocess(text)"
   ]
  },
  {
   "cell_type": "markdown",
   "id": "f85c15cb",
   "metadata": {},
   "source": [
    "# 단어의 분산 표현 (distributional representation of words)\n",
    "\n",
    "단어를 어떻게 벡터화할 것인가? = 머신러닝에 사용하기 위해 단어를 벡터로 표현하는 방법\n",
    "\n",
    "## 통계 기반 기법 (Statistical-based)\n",
    "\n",
    "- 분포 가설 (distributional hypothesis)\n",
    "    - '단어의 의미는 주변 단어에 의해 형성된다.' <br>\n",
    "    - \"문맥, 맥락 (Context)\"이 단어의 의미를 형성한다.\n",
    "        - Example : \"drink\" 다음에는 마실 수 있는 대상이 나올 것. (I drink beer)\n",
    "        \n",
    "    - 타겟 단어와 가장 가까이 있는 단어들로 맥락을 형성한다고 가정.\n",
    "    - window size : 어느정도 가까이 있는 단어까지 볼 것이냐? \n",
    "        - Example : you say goodbye and i say hello. 에서, <br>\n",
    "        goodbye가 타겟일 경우, window_size = 2일시, 'you', 'say', 'and' 'i' 까지의 단어로 맥락을 유추. (좌우 2단어가 맥락에 포함)\n",
    "        \n",
    "               \n",
    "- 타겟 단어의 주변에 어떤 단어가 몇 번이나 등장하는지를 세어보는 게 가장 직관적인 방법."
   ]
  },
  {
   "cell_type": "code",
   "execution_count": 9,
   "id": "2b8816c9",
   "metadata": {},
   "outputs": [],
   "source": [
    "import sys\n",
    "sys.path.append('..')\n",
    "import numpy as np\n",
    "from common.util import preprocess, create_co_matrix, cos_similarity, most_similar"
   ]
  },
  {
   "cell_type": "code",
   "execution_count": 10,
   "id": "23a2165a",
   "metadata": {},
   "outputs": [
    {
     "name": "stdout",
     "output_type": "stream",
     "text": [
      "[0 1 2 3 4 1 5 6]\n",
      "{0: 'you', 1: 'say', 2: 'goodbye', 3: 'and', 4: 'i', 5: 'hello', 6: '.'}\n"
     ]
    }
   ],
   "source": [
    "text = 'You say goodbye and I say hello.'\n",
    "corpus, word_to_id, id_to_word = preprocess(text)\n",
    "\n",
    "# Corpus : 말뭉치, 원문 텍스트의 단어들의 id 목록으로 변환함.\n",
    "print(corpus)\n",
    "\n",
    "print(id_to_word)"
   ]
  },
  {
   "cell_type": "code",
   "execution_count": 11,
   "id": "7ed65bca",
   "metadata": {},
   "outputs": [],
   "source": [
    "# Co-occurence matrix (동시발생 행렬)\n",
    "# 주어진 단어에 대해 인접한 단어를 세어 행렬로 표현.\n",
    "\n",
    "C = create_co_matrix(corpus, len(corpus), 1)"
   ]
  },
  {
   "cell_type": "code",
   "execution_count": 12,
   "id": "68f8f4ed",
   "metadata": {},
   "outputs": [
    {
     "name": "stdout",
     "output_type": "stream",
     "text": [
      "0.7071067758832467\n"
     ]
    }
   ],
   "source": [
    "# Vector similarity, cosine similarity.\n",
    "\n",
    "c0 = C[word_to_id['you']]\n",
    "c1 = C[word_to_id['i']]\n",
    "print(cos_similarity(c0,c1))"
   ]
  },
  {
   "cell_type": "code",
   "execution_count": 13,
   "id": "6f21b140",
   "metadata": {},
   "outputs": [],
   "source": [
    "text = 'You say goodbye and I say hello.'\n",
    "corpus, word_to_id, id_to_word = preprocess(text)\n",
    "vocab_size = len(word_to_id)\n",
    "C = create_co_matrix(corpus,vocab_size)"
   ]
  },
  {
   "cell_type": "code",
   "execution_count": 14,
   "id": "5a588ab4",
   "metadata": {},
   "outputs": [
    {
     "name": "stdout",
     "output_type": "stream",
     "text": [
      "\n",
      "[query] you\n",
      "goodbye: 0.7071067758832467\n",
      "i: 0.7071067758832467\n",
      "hello: 0.7071067758832467\n",
      "say: 0.0\n",
      "and: 0.0\n"
     ]
    }
   ],
   "source": [
    "most_similar('you', word_to_id, id_to_word, C, top=5)"
   ]
  },
  {
   "cell_type": "markdown",
   "id": "ecf84860",
   "metadata": {},
   "source": [
    "NOTE : 위의 결과에서 goodbye와 you의 유사도가 높게 측정되었는데, <br> \n",
    "말뭉치의 크기가 작은 것이 원인 중 하나이다."
   ]
  },
  {
   "cell_type": "markdown",
   "id": "308dc8b3",
   "metadata": {},
   "source": [
    "### Pointwise Mutual Information (PMI), 상호정보량\n",
    "\n",
    "$ \\text{PMI}(x,y) = \\log_{2}{\\frac{P(x,y)}{P(x)P(y)}} . $ <br>\n",
    "- $P(x)$ = probability that event $x$ occurs.\n",
    "- $P(x, y)$ : Joint probability. (cf: Conditional probability, 조건부 확률)\n",
    "\n",
    "Example : $P(\\text{'you'}) = 1/7$ (in the text 'You say goodbye and I say hello.')\n",
    "\n",
    "**동시발생 행렬 $C$를 사용하여 $P(x,y)$를 적을 수 있음.**\n",
    "\n",
    "$ \\text{PMI}(x,y) = \\log_{2}{\\frac{P(x,y)}{P(x)P(y)}} = \\log_{2}{\\frac{C(x,y)/N}{C(x)C(y)/N^2}} = \n",
    "\\log_{2}{\\frac{C(x,y)\\cdot N}{C(x)C(y)}} .$ <br>\n",
    "- $C(x)$ : frequency of x\n",
    "- $C(x,y)$ : x와 y가 동시발생하는 횟수 (행렬 $C$에서!)\n",
    "- $N$ : 말뭉치에서 단어의 개수.\n",
    "\n",
    "PMI는 음수가 나올 수도 있는데, 음수는 0으로 처리한다. (**Positive PMI, PPMI**)\n",
    "\n",
    "$ \\text{PPMI}(x,y) = \\text{max}(0,PMI(x,y)) . $"
   ]
  },
  {
   "cell_type": "code",
   "execution_count": 15,
   "id": "08c7f792",
   "metadata": {},
   "outputs": [
    {
     "name": "stdout",
     "output_type": "stream",
     "text": [
      "Co-martix\n",
      "[[0 1 0 0 0 0 0 0]\n",
      " [1 0 1 0 1 1 0 0]\n",
      " [0 1 0 1 0 0 0 0]\n",
      " [0 0 1 0 1 0 0 0]\n",
      " [0 1 0 1 0 0 0 0]\n",
      " [0 1 0 0 0 0 1 0]\n",
      " [0 0 0 0 0 1 0 0]\n",
      " [0 0 0 0 0 0 0 0]]\n",
      "--------------------------------------------------\n",
      "PPMI\n",
      "[[0.    1.807 0.    0.    0.    0.    0.    0.   ]\n",
      " [1.807 0.    0.807 0.    0.807 0.807 0.    0.   ]\n",
      " [0.    0.807 0.    1.807 0.    0.    0.    0.   ]\n",
      " [0.    0.    1.807 0.    1.807 0.    0.    0.   ]\n",
      " [0.    0.807 0.    1.807 0.    0.    0.    0.   ]\n",
      " [0.    0.807 0.    0.    0.    0.    2.807 0.   ]\n",
      " [0.    0.    0.    0.    0.    2.807 0.    0.   ]\n",
      " [0.    0.    0.    0.    0.    0.    0.    0.   ]]\n"
     ]
    },
    {
     "name": "stderr",
     "output_type": "stream",
     "text": [
      "/Users/shong/project/DL_from_scratch02_note/ch02_intro_NLP/../common/util.py:80: RuntimeWarning: invalid value encountered in long_scalars\n",
      "  pmi = np.log2(C[i,j] * N / (S[j]*S[i]) +eps)\n"
     ]
    }
   ],
   "source": [
    "# PPMI test\n",
    "import sys\n",
    "sys.path.append('..')\n",
    "import numpy as np\n",
    "from common.util import preprocess, create_co_matrix, cos_similarity, ppmi\n",
    "\n",
    "text = 'You say goodbye and I say hello.'\n",
    "corpus, word_to_id, id_to_word = preprocess(text)\n",
    "vocab_size = len(word_to_id)\n",
    "C = create_co_matrix(corpus,vocab_size)\n",
    "W = ppmi(C)\n",
    "\n",
    "np.set_printoptions(precision=3)\n",
    "print(\"Co-martix\")\n",
    "print(C)\n",
    "print('-'*50)\n",
    "print('PPMI')\n",
    "print(W)"
   ]
  },
  {
   "cell_type": "markdown",
   "id": "c4e999a8",
   "metadata": {},
   "source": [
    "PPMI의 문제점 \n",
    "1. 말뭉치 개수가 많아지면 사이즈가 너무 커짐.\n",
    "2. Sparse matrix의 형태를 띔.\n",
    "\n",
    "### Dimensionality reduction, 차원 감소\n",
    "\n",
    "Example : 2차원에서 1차원 경향성 (직선)을 띄는 데이터를 가지고 축 $y=ax + b$을 찾음. <br>\n",
    "여기서는 SVD를 사용해서 차원 축소를 해본다!"
   ]
  },
  {
   "cell_type": "code",
   "execution_count": 16,
   "id": "62eef6c9",
   "metadata": {},
   "outputs": [
    {
     "name": "stdout",
     "output_type": "stream",
     "text": [
      "[0 1 0 0 0 0 0 0]\n",
      "[0.    1.807 0.    0.    0.    0.    0.    0.   ]\n",
      "[-1.110e-16 -3.409e-01]\n"
     ]
    },
    {
     "name": "stderr",
     "output_type": "stream",
     "text": [
      "/Users/shong/project/DL_from_scratch02_note/ch02_intro_NLP/../common/util.py:80: RuntimeWarning: invalid value encountered in long_scalars\n",
      "  pmi = np.log2(C[i,j] * N / (S[j]*S[i]) +eps)\n"
     ]
    }
   ],
   "source": [
    "# PPMI + SVD test\n",
    "import sys\n",
    "sys.path.append('..')\n",
    "import numpy as np\n",
    "import matplotlib.pyplot as plt\n",
    "from common.util import preprocess, create_co_matrix, cos_similarity, ppmi\n",
    "\n",
    "text = 'You say goodbye and I say hello.'\n",
    "corpus, word_to_id, id_to_word = preprocess(text)\n",
    "vocab_size = len(word_to_id)\n",
    "C = create_co_matrix(corpus,vocab_size)\n",
    "W = ppmi(C)\n",
    "\n",
    "U, S, V = np.linalg.svd(W)\n",
    "\n",
    "# 동시발생 행렬, PPMI, SVD U 비교\n",
    "print(C[0])\n",
    "print(W[0])\n",
    "print(U[0, :2])"
   ]
  },
  {
   "cell_type": "code",
   "execution_count": 17,
   "id": "7855add9",
   "metadata": {},
   "outputs": [
    {
     "data": {
      "image/png": "[encoded data removed]",
      "text/plain": [
       "<Figure size 432x288 with 1 Axes>"
      ]
     },
     "metadata": {
      "needs_background": "light"
     },
     "output_type": "display_data"
    }
   ],
   "source": [
    "# 각 단어를 2차원으로 표현\n",
    "for word, word_id in word_to_id.items():\n",
    "    plt.annotate(word,(U[word_id,0], U[word_id,1]))\n",
    "    \n",
    "plt.scatter(U[:,0],U[:,1],alpha=0.5)\n",
    "plt.show()"
   ]
  },
  {
   "cell_type": "code",
   "execution_count": 18,
   "id": "57a3d57a",
   "metadata": {},
   "outputs": [
    {
     "name": "stdout",
     "output_type": "stream",
     "text": [
      "말뭉치 크기: 929589\n",
      "corpus[:30]: [ 0  1  2  3  4  5  6  7  8  9 10 11 12 13 14 15 16 17 18 19 20 21 22 23\n",
      " 24 25 26 27 28 29]\n",
      "\n",
      "id_to_word[0]: aer\n",
      "id_to_word[1]: banknote\n",
      "id_to_word[2]: berlitz\n",
      "\n",
      "word_to_id['car']: 3856\n",
      "word_to_id['happy']: 4428\n",
      "word_to_id['lexus']: 7426\n"
     ]
    }
   ],
   "source": [
    "# 더 많은 단어가 들어간 데이터를 써보기 위해 ptb (penn treebank) set을 사용해보자.\n",
    "\n",
    "import sys\n",
    "sys.path.append('..')\n",
    "from dataset import ptb\n",
    "\n",
    "\n",
    "corpus, word_to_id, id_to_word = ptb.load_data('train')\n",
    "\n",
    "print('말뭉치 크기:', len(corpus))\n",
    "print('corpus[:30]:', corpus[:30])\n",
    "print()\n",
    "print('id_to_word[0]:', id_to_word[0])\n",
    "print('id_to_word[1]:', id_to_word[1])\n",
    "print('id_to_word[2]:', id_to_word[2])\n",
    "print()\n",
    "print(\"word_to_id['car']:\", word_to_id['car'])\n",
    "print(\"word_to_id['happy']:\", word_to_id['happy'])\n",
    "print(\"word_to_id['lexus']:\", word_to_id['lexus'])"
   ]
  },
  {
   "cell_type": "code",
   "execution_count": null,
   "id": "8f132c43",
   "metadata": {},
   "outputs": [
    {
     "name": "stdout",
     "output_type": "stream",
     "text": [
      "Co-occurence matrix calculation\n"
     ]
    }
   ],
   "source": [
    "# Dataset 평가\n",
    "\n",
    "import sys\n",
    "sys.path.append('..')\n",
    "import numpy as np\n",
    "from common.util import most_similar, create_co_matrix, ppmi\n",
    "from dataset import ptb\n",
    "\n",
    "window_size = 2\n",
    "wordvec_size = 100\n",
    "\n",
    "corpus, word_to_id, id_to_word = ptb.load_data('train')\n",
    "vocab_size = len(word_to_id)\n",
    "print('Co-occurence matrix calculation')\n",
    "C = create_co_matrix(corpus,vocab_size,window_size)\n",
    "print('PPMI calculation')\n",
    "W = ppmi(C, verbose=True)\n",
    "\n",
    "print('SVD...')\n",
    "try:\n",
    "    #truncated SVD\n",
    "    from sklearn.utils.extmath import randomized_svd\n",
    "    U, S, V = randomized_svd(W, n_components=wordvec_size,n_iter=5,\n",
    "                            random_state=None)\n",
    "    \n",
    "except ImportError:\n",
    "    # SVD\n",
    "    U, S, V = np.lonalg.svd(W)\n",
    "    \n",
    "word_vecs = U[:,:wordvec_size]\n",
    "querys = ['you', 'year', 'car', 'toyota']\n",
    "for query in querys:\n",
    "    most_similar(query, word_to_id, id_to_word, word_vecs, top=5)\n",
    "    \n",
    "## Comment : 맥북에서 killed. 메모리 문제로 추정. (???????)"
   ]
  },
  {
   "cell_type": "code",
   "execution_count": null,
   "id": "8dc54cd5",
   "metadata": {},
   "outputs": [],
   "source": []
  }
 ],
 "metadata": {
  "kernelspec": {
   "display_name": "Python 3 (ipykernel)",
   "language": "python",
   "name": "python3"
  },
  "language_info": {
   "codemirror_mode": {
    "name": "ipython",
    "version": 3
   },
   "file_extension": ".py",
   "mimetype": "text/x-python",
   "name": "python",
   "nbconvert_exporter": "python",
   "pygments_lexer": "ipython3",
   "version": "3.8.12"
  }
 },
 "nbformat": 4,
 "nbformat_minor": 5
}
